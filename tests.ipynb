{
 "cells": [
  {
   "cell_type": "code",
   "execution_count": 42,
   "metadata": {},
   "outputs": [
    {
     "name": "stdout",
     "output_type": "stream",
     "text": [
      "We don't know it yet\n"
     ]
    }
   ],
   "source": [
    "recipes = [\n",
    "    {\"name\": \"whiskey sour\", \"ingredients\" : [\"whiskey\", \"sugar\", \"lemon juice\", \"sugar\", \"egg whites\", \"angostura\"]},\n",
    "]\n",
    "\n",
    "\n",
    "\n",
    "\n",
    "#first, what I want is for my program to search the list Recipes and return True if it finds the name of the recipe inputed (inputted? inputtted?) - UserInput. by this I just want to test a basic search function that I'll prob have to create\n",
    "\n",
    "user_recipe = input(\"Enter a recipe. We'll see if we know it!\")\n",
    "\n",
    "#FOR each value related to \"name\" inside Recipes,\n",
    "#  COMPARE value to UserInput - use find?\n",
    "#   IF UserInput == Value\n",
    "#       PRINT \"recipe found\"\n",
    "#   ELSE\n",
    "#       PRINT \"recipe not found\"\n",
    "\n",
    "\n",
    "def search(recipes, user_recipe):\n",
    "    for i in range(len(recipes)):\n",
    "        if list[i] == user_recipe:\n",
    "            return True\n",
    "    return False\n",
    "\n",
    "if search(recipes, user_recipe):\n",
    "    print(\"We know it\")\n",
    "else:\n",
    "    print(\"We don't know it yet\")\n",
    "\n",
    "\n"
   ]
  }
 ],
 "metadata": {
  "interpreter": {
   "hash": "6e99a5c37ddd8af0272288cc566dae5d747acf5681cfcdea5669a1e5e3244e4d"
  },
  "kernelspec": {
   "display_name": "Python 3.10.2 64-bit",
   "language": "python",
   "name": "python3"
  },
  "language_info": {
   "codemirror_mode": {
    "name": "ipython",
    "version": 3
   },
   "file_extension": ".py",
   "mimetype": "text/x-python",
   "name": "python",
   "nbconvert_exporter": "python",
   "pygments_lexer": "ipython3",
   "version": "3.10.2"
  },
  "orig_nbformat": 4
 },
 "nbformat": 4,
 "nbformat_minor": 2
}
